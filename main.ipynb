{
 "cells": [
  {
   "cell_type": "markdown",
   "metadata": {},
   "source": [
    "## Notebook principal"
   ]
  },
  {
   "cell_type": "markdown",
   "metadata": {},
   "source": [
    "Primero se busca trabajar con 3 libros de texto en formato PDF, los cuales son:  \n",
    "Codigo limpio - Robert Cecil Martin  \n",
    "Ingenieria de software - Pressman  \n",
    "Ingenieria de software - Sommerville"
   ]
  },
  {
   "cell_type": "code",
   "execution_count": null,
   "metadata": {},
   "outputs": [],
   "source": [
    "%pip install PyPDF2\n",
    "%pip install tqdm"
   ]
  },
  {
   "cell_type": "code",
   "execution_count": null,
   "metadata": {},
   "outputs": [],
   "source": [
    "from PyPDF2 import PdfReader\n",
    "from tqdm.auto import tqdm\n",
    "from os import makedirs, listdir, path, getcwd\n",
    "\n",
    "BASE_DIR = getcwd()\n",
    "DATA_DIR = path.join(BASE_DIR, \"data\")\n",
    "PDF_DIR = path.join(DATA_DIR, \"pdf\")\n",
    "TXT_DIR = path.join(DATA_DIR, \"txt\")"
   ]
  },
  {
   "cell_type": "markdown",
   "metadata": {},
   "source": [
    "Una vez teniendo los libros en formato PDF, se procede a convertirlos a formato TXT, para poder trabajar con ellos.\n",
    "La conversion ocurre pagina por pagina."
   ]
  },
  {
   "cell_type": "code",
   "execution_count": null,
   "metadata": {},
   "outputs": [],
   "source": [
    "makedirs(TXT_DIR, exist_ok=True)\n",
    "# obtener todos los archivos pdf dentro de PDF_DIR\n",
    "pdf_files = [f for f in listdir(PDF_DIR) if f.lower().endswith('.pdf')]\n",
    "for pdf in pdf_files:\n",
    "    # leer el archivo pdf\n",
    "    with open(path.join(PDF_DIR, pdf), 'rb') as f:\n",
    "        pdf_reader = PdfReader(f)\n",
    "        # leer el número de páginas en el archivo pdf\n",
    "        pbar = tqdm(range(len(pdf_reader.pages)))\n",
    "        # iterar sobre las páginas en el archivo pdf\n",
    "        page_num = 0\n",
    "        for page in pbar:\n",
    "            pbar.set_description(f'Processing {pdf}')\n",
    "            # obtener el texto de la página eliminando los saltos de línea\n",
    "            text = pdf_reader.pages[page].extract_text().replace('\\n', ' ')\n",
    "            # escribir el texto en un archivo txt\n",
    "            txt_file = f'{pdf[:-4]}_{page_num}.txt'\n",
    "            # generar un archivo txt que contenga el texto de todos los archivos txt de un mismo pdf\n",
    "            main_txt_file = f'{pdf[:-4]}.txt'\n",
    "            with open(path.join(TXT_DIR, txt_file), 'w', encoding='utf-8') as f, open(path.join(TXT_DIR, main_txt_file), 'a', encoding='utf-8') as mwf:\n",
    "                # formatear el texto para normalizarlo\n",
    "                formatted_text = text.replace('\\n', ' ').lower().replace('  ', ' ')\n",
    "                f.write(formatted_text)\n",
    "                mwf.write(formatted_text)\n",
    "                page_num += 1"
   ]
  },
  {
   "cell_type": "markdown",
   "metadata": {},
   "source": [
    "Una vez teniendo todos los archivos .txt se debe obtener el dataset de STS lleno de oraciones relacionadas a la ingenieria de software y un puntaje entre 0 y 1 que valore la similitud entre las oraciones."
   ]
  },
  {
   "cell_type": "markdown",
   "metadata": {},
   "source": [
    "Se buscara hacer uso de algun modelo para extraer las oraciones del archivo .txt"
   ]
  },
  {
   "cell_type": "code",
   "execution_count": null,
   "metadata": {},
   "outputs": [],
   "source": [
    "%pip install huggingface_hub transformers datasets  "
   ]
  },
  {
   "cell_type": "markdown",
   "metadata": {},
   "source": [
    "Buscando los modelos en espanol para extraer automaticamente las oraciones de ingenieria de software encontre este modelo: [hiiamsid/sentence_similarity_spanish_es](https://huggingface.co/hiiamsid/sentence_similarity_spanish_es) el cual potencialmente sera usado para realizarle fine-tuning y asi obtener un modelo final."
   ]
  },
  {
   "cell_type": "markdown",
   "metadata": {},
   "source": [
    "Se busca obtener cada oracion del archivo .txt principal de cada libro e incluirla en un archivo .json."
   ]
  },
  {
   "cell_type": "code",
   "execution_count": null,
   "metadata": {},
   "outputs": [],
   "source": [
    "import re\n",
    "\n",
    "def remove_useless_text(text):\n",
    "    # Regular expressions for detecting useless text patterns\n",
    "    patterns = [\n",
    "        r'>',  # Remove bullet point indicators\n",
    "        r'\\d+\\w*',  # Remove numbers or digits combined with letters\n",
    "        r'\\b\\w\\b',  # Remove single-letter words\n",
    "        r'\\b\\w{1,2}\\b',  # Remove words with one or two characters\n",
    "        r'www\\.[^\\s]+',  # Remove URLs\n",
    "    ]\n",
    "\n",
    "    # Apply each pattern sequentially to remove useless text\n",
    "    for pattern in patterns:\n",
    "        text = re.sub(pattern, '', text)\n",
    "\n",
    "    # Remove extra whitespaces\n",
    "    text = re.sub(r'\\s+', ' ', text).strip()\n",
    "\n",
    "    return text\n"
   ]
  },
  {
   "cell_type": "code",
   "execution_count": null,
   "metadata": {},
   "outputs": [],
   "source": [
    "for filename in listdir(TXT_DIR):\n",
    "    if not any(char.isdigit() for char in filename):\n",
    "        # por la convencion de nombres que se tomo, estos archivos son los que contienen todo el texto de su respectivo pdf\n",
    "        with open(TXT_DIR + '/' + filename, 'r', encoding='utf-8') as file:\n",
    "            text = file.read()\n",
    "            cleaned_text = remove_useless_text(text)\n",
    "            # Do something with the cleaned text, such as write it to a new file\n",
    "            with open(TXT_DIR + '/cleaned_' + filename, 'w', encoding='utf-8') as cleaned_file:\n",
    "                cleaned_file.write(cleaned_text)"
   ]
  },
  {
   "cell_type": "code",
   "execution_count": null,
   "metadata": {},
   "outputs": [],
   "source": []
  },
  {
   "cell_type": "markdown",
   "metadata": {},
   "source": [
    "Se opta por usar los embeddings del modelo anteriormente mencionado para asi encontrar el contexto de cada oracion."
   ]
  },
  {
   "cell_type": "code",
   "execution_count": null,
   "metadata": {},
   "outputs": [],
   "source": []
  }
 ],
 "metadata": {
  "kernelspec": {
   "display_name": ".venv",
   "language": "python",
   "name": "python3"
  },
  "language_info": {
   "codemirror_mode": {
    "name": "ipython",
    "version": 3
   },
   "file_extension": ".py",
   "mimetype": "text/x-python",
   "name": "python",
   "nbconvert_exporter": "python",
   "pygments_lexer": "ipython3",
   "version": "3.10.9"
  },
  "orig_nbformat": 4
 },
 "nbformat": 4,
 "nbformat_minor": 2
}
